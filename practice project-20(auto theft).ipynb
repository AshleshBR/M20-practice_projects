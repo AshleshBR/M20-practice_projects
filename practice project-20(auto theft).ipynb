{
 "cells": [
  {
   "cell_type": "markdown",
   "metadata": {},
   "source": [
    "Context\n",
    "\n",
    "This dataset contains complete information about various aspects of crimes happened in India from 2001. There are many factors that can be analyzed from this dataset. Hope this dataset helps us to understand better about India."
   ]
  },
  {
   "cell_type": "code",
   "execution_count": 1,
   "metadata": {},
   "outputs": [],
   "source": [
    "import pandas as pd\n",
    "import numpy as np\n",
    "import matplotlib.pyplot as plt\n",
    "import seaborn as sns"
   ]
  },
  {
   "cell_type": "code",
   "execution_count": null,
   "metadata": {},
   "outputs": [],
   "source": []
  },
  {
   "cell_type": "code",
   "execution_count": 2,
   "metadata": {},
   "outputs": [
    {
     "data": {
      "text/html": [
       "<div>\n",
       "<style scoped>\n",
       "    .dataframe tbody tr th:only-of-type {\n",
       "        vertical-align: middle;\n",
       "    }\n",
       "\n",
       "    .dataframe tbody tr th {\n",
       "        vertical-align: top;\n",
       "    }\n",
       "\n",
       "    .dataframe thead th {\n",
       "        text-align: right;\n",
       "    }\n",
       "</style>\n",
       "<table border=\"1\" class=\"dataframe\">\n",
       "  <thead>\n",
       "    <tr style=\"text-align: right;\">\n",
       "      <th></th>\n",
       "      <th>Area_Name</th>\n",
       "      <th>Year</th>\n",
       "      <th>Group_Name</th>\n",
       "      <th>Sub_Group_Name</th>\n",
       "      <th>Auto_Theft_Coordinated/Traced</th>\n",
       "      <th>Auto_Theft_Recovered</th>\n",
       "      <th>Auto_Theft_Stolen</th>\n",
       "    </tr>\n",
       "  </thead>\n",
       "  <tbody>\n",
       "    <tr>\n",
       "      <th>0</th>\n",
       "      <td>Andaman &amp; Nicobar Islands</td>\n",
       "      <td>2001</td>\n",
       "      <td>AT1-Motor Cycles/ Scooters</td>\n",
       "      <td>1. Motor Cycles/ Scooters</td>\n",
       "      <td>NaN</td>\n",
       "      <td>4.0</td>\n",
       "      <td>4</td>\n",
       "    </tr>\n",
       "    <tr>\n",
       "      <th>1</th>\n",
       "      <td>Andhra Pradesh</td>\n",
       "      <td>2001</td>\n",
       "      <td>AT1-Motor Cycles/ Scooters</td>\n",
       "      <td>1. Motor Cycles/ Scooters</td>\n",
       "      <td>136.0</td>\n",
       "      <td>1311.0</td>\n",
       "      <td>2725</td>\n",
       "    </tr>\n",
       "    <tr>\n",
       "      <th>2</th>\n",
       "      <td>Arunachal Pradesh</td>\n",
       "      <td>2001</td>\n",
       "      <td>AT1-Motor Cycles/ Scooters</td>\n",
       "      <td>1. Motor Cycles/ Scooters</td>\n",
       "      <td>0.0</td>\n",
       "      <td>21.0</td>\n",
       "      <td>27</td>\n",
       "    </tr>\n",
       "    <tr>\n",
       "      <th>3</th>\n",
       "      <td>Assam</td>\n",
       "      <td>2001</td>\n",
       "      <td>AT1-Motor Cycles/ Scooters</td>\n",
       "      <td>1. Motor Cycles/ Scooters</td>\n",
       "      <td>0.0</td>\n",
       "      <td>94.0</td>\n",
       "      <td>205</td>\n",
       "    </tr>\n",
       "    <tr>\n",
       "      <th>4</th>\n",
       "      <td>Bihar</td>\n",
       "      <td>2001</td>\n",
       "      <td>AT1-Motor Cycles/ Scooters</td>\n",
       "      <td>1. Motor Cycles/ Scooters</td>\n",
       "      <td>44.0</td>\n",
       "      <td>205.0</td>\n",
       "      <td>946</td>\n",
       "    </tr>\n",
       "  </tbody>\n",
       "</table>\n",
       "</div>"
      ],
      "text/plain": [
       "                   Area_Name  Year                  Group_Name  \\\n",
       "0  Andaman & Nicobar Islands  2001  AT1-Motor Cycles/ Scooters   \n",
       "1             Andhra Pradesh  2001  AT1-Motor Cycles/ Scooters   \n",
       "2          Arunachal Pradesh  2001  AT1-Motor Cycles/ Scooters   \n",
       "3                      Assam  2001  AT1-Motor Cycles/ Scooters   \n",
       "4                      Bihar  2001  AT1-Motor Cycles/ Scooters   \n",
       "\n",
       "              Sub_Group_Name  Auto_Theft_Coordinated/Traced  \\\n",
       "0  1. Motor Cycles/ Scooters                            NaN   \n",
       "1  1. Motor Cycles/ Scooters                          136.0   \n",
       "2  1. Motor Cycles/ Scooters                            0.0   \n",
       "3  1. Motor Cycles/ Scooters                            0.0   \n",
       "4  1. Motor Cycles/ Scooters                           44.0   \n",
       "\n",
       "   Auto_Theft_Recovered  Auto_Theft_Stolen  \n",
       "0                   4.0                  4  \n",
       "1                1311.0               2725  \n",
       "2                  21.0                 27  \n",
       "3                  94.0                205  \n",
       "4                 205.0                946  "
      ]
     },
     "execution_count": 2,
     "metadata": {},
     "output_type": "execute_result"
    }
   ],
   "source": [
    "df=pd.read_csv(\"30_Auto_theft.csv\")\n",
    "df.head()"
   ]
  },
  {
   "cell_type": "code",
   "execution_count": 3,
   "metadata": {},
   "outputs": [
    {
     "data": {
      "text/html": [
       "<div>\n",
       "<style scoped>\n",
       "    .dataframe tbody tr th:only-of-type {\n",
       "        vertical-align: middle;\n",
       "    }\n",
       "\n",
       "    .dataframe tbody tr th {\n",
       "        vertical-align: top;\n",
       "    }\n",
       "\n",
       "    .dataframe thead th {\n",
       "        text-align: right;\n",
       "    }\n",
       "</style>\n",
       "<table border=\"1\" class=\"dataframe\">\n",
       "  <thead>\n",
       "    <tr style=\"text-align: right;\">\n",
       "      <th></th>\n",
       "      <th>Area_Name</th>\n",
       "      <th>Year</th>\n",
       "      <th>Group_Name</th>\n",
       "      <th>Sub_Group_Name</th>\n",
       "      <th>Auto_Theft_Coordinated/Traced</th>\n",
       "      <th>Auto_Theft_Recovered</th>\n",
       "      <th>Auto_Theft_Stolen</th>\n",
       "    </tr>\n",
       "  </thead>\n",
       "  <tbody>\n",
       "    <tr>\n",
       "      <th>1860</th>\n",
       "      <td>Tamil Nadu</td>\n",
       "      <td>2010</td>\n",
       "      <td>AT6-Total</td>\n",
       "      <td>6. Total (Sum of 1-5 Above)</td>\n",
       "      <td>2563.0</td>\n",
       "      <td>3541.0</td>\n",
       "      <td>5205</td>\n",
       "    </tr>\n",
       "    <tr>\n",
       "      <th>1861</th>\n",
       "      <td>Tripura</td>\n",
       "      <td>2010</td>\n",
       "      <td>AT6-Total</td>\n",
       "      <td>6. Total (Sum of 1-5 Above)</td>\n",
       "      <td>NaN</td>\n",
       "      <td>26.0</td>\n",
       "      <td>50</td>\n",
       "    </tr>\n",
       "    <tr>\n",
       "      <th>1862</th>\n",
       "      <td>Uttar Pradesh</td>\n",
       "      <td>2010</td>\n",
       "      <td>AT6-Total</td>\n",
       "      <td>6. Total (Sum of 1-5 Above)</td>\n",
       "      <td>505.0</td>\n",
       "      <td>2434.0</td>\n",
       "      <td>16705</td>\n",
       "    </tr>\n",
       "    <tr>\n",
       "      <th>1863</th>\n",
       "      <td>Uttarakhand</td>\n",
       "      <td>2010</td>\n",
       "      <td>AT6-Total</td>\n",
       "      <td>6. Total (Sum of 1-5 Above)</td>\n",
       "      <td>NaN</td>\n",
       "      <td>244.0</td>\n",
       "      <td>853</td>\n",
       "    </tr>\n",
       "    <tr>\n",
       "      <th>1864</th>\n",
       "      <td>West Bengal</td>\n",
       "      <td>2010</td>\n",
       "      <td>AT6-Total</td>\n",
       "      <td>6. Total (Sum of 1-5 Above)</td>\n",
       "      <td>47.0</td>\n",
       "      <td>641.0</td>\n",
       "      <td>4305</td>\n",
       "    </tr>\n",
       "  </tbody>\n",
       "</table>\n",
       "</div>"
      ],
      "text/plain": [
       "          Area_Name  Year Group_Name               Sub_Group_Name  \\\n",
       "1860     Tamil Nadu  2010  AT6-Total  6. Total (Sum of 1-5 Above)   \n",
       "1861        Tripura  2010  AT6-Total  6. Total (Sum of 1-5 Above)   \n",
       "1862  Uttar Pradesh  2010  AT6-Total  6. Total (Sum of 1-5 Above)   \n",
       "1863    Uttarakhand  2010  AT6-Total  6. Total (Sum of 1-5 Above)   \n",
       "1864    West Bengal  2010  AT6-Total  6. Total (Sum of 1-5 Above)   \n",
       "\n",
       "      Auto_Theft_Coordinated/Traced  Auto_Theft_Recovered  Auto_Theft_Stolen  \n",
       "1860                         2563.0                3541.0               5205  \n",
       "1861                            NaN                  26.0                 50  \n",
       "1862                          505.0                2434.0              16705  \n",
       "1863                            NaN                 244.0                853  \n",
       "1864                           47.0                 641.0               4305  "
      ]
     },
     "execution_count": 3,
     "metadata": {},
     "output_type": "execute_result"
    }
   ],
   "source": [
    "df.tail()"
   ]
  },
  {
   "cell_type": "code",
   "execution_count": 4,
   "metadata": {},
   "outputs": [
    {
     "data": {
      "text/plain": [
       "Index(['Area_Name', 'Year', 'Group_Name', 'Sub_Group_Name',\n",
       "       'Auto_Theft_Coordinated/Traced', 'Auto_Theft_Recovered',\n",
       "       'Auto_Theft_Stolen'],\n",
       "      dtype='object')"
      ]
     },
     "execution_count": 4,
     "metadata": {},
     "output_type": "execute_result"
    }
   ],
   "source": [
    "df.columns"
   ]
  },
  {
   "cell_type": "markdown",
   "metadata": {},
   "source": [
    "# Exploring data"
   ]
  },
  {
   "cell_type": "code",
   "execution_count": 5,
   "metadata": {},
   "outputs": [
    {
     "name": "stdout",
     "output_type": "stream",
     "text": [
      "<class 'pandas.core.frame.DataFrame'>\n",
      "RangeIndex: 1865 entries, 0 to 1864\n",
      "Data columns (total 7 columns):\n",
      "Area_Name                        1865 non-null object\n",
      "Year                             1865 non-null int64\n",
      "Group_Name                       1865 non-null object\n",
      "Sub_Group_Name                   1865 non-null object\n",
      "Auto_Theft_Coordinated/Traced    1519 non-null float64\n",
      "Auto_Theft_Recovered             1837 non-null float64\n",
      "Auto_Theft_Stolen                1865 non-null int64\n",
      "dtypes: float64(2), int64(2), object(3)\n",
      "memory usage: 102.1+ KB\n"
     ]
    }
   ],
   "source": [
    "df.info()"
   ]
  },
  {
   "cell_type": "code",
   "execution_count": 6,
   "metadata": {},
   "outputs": [
    {
     "data": {
      "text/plain": [
       "Area_Name                          0\n",
       "Year                               0\n",
       "Group_Name                         0\n",
       "Sub_Group_Name                     0\n",
       "Auto_Theft_Coordinated/Traced    346\n",
       "Auto_Theft_Recovered              28\n",
       "Auto_Theft_Stolen                  0\n",
       "dtype: int64"
      ]
     },
     "execution_count": 6,
     "metadata": {},
     "output_type": "execute_result"
    }
   ],
   "source": [
    "df.isnull().sum()"
   ]
  },
  {
   "cell_type": "code",
   "execution_count": 7,
   "metadata": {},
   "outputs": [
    {
     "data": {
      "text/plain": [
       "(1865, 7)"
      ]
     },
     "execution_count": 7,
     "metadata": {},
     "output_type": "execute_result"
    }
   ],
   "source": [
    "df.shape"
   ]
  },
  {
   "cell_type": "code",
   "execution_count": 8,
   "metadata": {},
   "outputs": [
    {
     "data": {
      "text/html": [
       "<div>\n",
       "<style scoped>\n",
       "    .dataframe tbody tr th:only-of-type {\n",
       "        vertical-align: middle;\n",
       "    }\n",
       "\n",
       "    .dataframe tbody tr th {\n",
       "        vertical-align: top;\n",
       "    }\n",
       "\n",
       "    .dataframe thead th {\n",
       "        text-align: right;\n",
       "    }\n",
       "</style>\n",
       "<table border=\"1\" class=\"dataframe\">\n",
       "  <thead>\n",
       "    <tr style=\"text-align: right;\">\n",
       "      <th></th>\n",
       "      <th>Area_Name</th>\n",
       "      <th>Year</th>\n",
       "      <th>Group_Name</th>\n",
       "      <th>Sub_Group_Name</th>\n",
       "      <th>Auto_Theft_Coordinated/Traced</th>\n",
       "      <th>Auto_Theft_Recovered</th>\n",
       "      <th>Auto_Theft_Stolen</th>\n",
       "    </tr>\n",
       "  </thead>\n",
       "  <tbody>\n",
       "    <tr>\n",
       "      <th>count</th>\n",
       "      <td>1865</td>\n",
       "      <td>1865.000000</td>\n",
       "      <td>1865</td>\n",
       "      <td>1865</td>\n",
       "      <td>1519.000000</td>\n",
       "      <td>1837.000000</td>\n",
       "      <td>1865.000000</td>\n",
       "    </tr>\n",
       "    <tr>\n",
       "      <th>unique</th>\n",
       "      <td>35</td>\n",
       "      <td>NaN</td>\n",
       "      <td>6</td>\n",
       "      <td>6</td>\n",
       "      <td>NaN</td>\n",
       "      <td>NaN</td>\n",
       "      <td>NaN</td>\n",
       "    </tr>\n",
       "    <tr>\n",
       "      <th>top</th>\n",
       "      <td>Kerala</td>\n",
       "      <td>NaN</td>\n",
       "      <td>AT6-Total</td>\n",
       "      <td>6. Total (Sum of 1-5 Above)</td>\n",
       "      <td>NaN</td>\n",
       "      <td>NaN</td>\n",
       "      <td>NaN</td>\n",
       "    </tr>\n",
       "    <tr>\n",
       "      <th>freq</th>\n",
       "      <td>60</td>\n",
       "      <td>NaN</td>\n",
       "      <td>344</td>\n",
       "      <td>344</td>\n",
       "      <td>NaN</td>\n",
       "      <td>NaN</td>\n",
       "      <td>NaN</td>\n",
       "    </tr>\n",
       "    <tr>\n",
       "      <th>mean</th>\n",
       "      <td>NaN</td>\n",
       "      <td>2005.564075</td>\n",
       "      <td>NaN</td>\n",
       "      <td>NaN</td>\n",
       "      <td>74.541145</td>\n",
       "      <td>297.927055</td>\n",
       "      <td>1029.431635</td>\n",
       "    </tr>\n",
       "    <tr>\n",
       "      <th>std</th>\n",
       "      <td>NaN</td>\n",
       "      <td>2.853598</td>\n",
       "      <td>NaN</td>\n",
       "      <td>NaN</td>\n",
       "      <td>270.195127</td>\n",
       "      <td>677.445512</td>\n",
       "      <td>2399.389932</td>\n",
       "    </tr>\n",
       "    <tr>\n",
       "      <th>min</th>\n",
       "      <td>NaN</td>\n",
       "      <td>2001.000000</td>\n",
       "      <td>NaN</td>\n",
       "      <td>NaN</td>\n",
       "      <td>0.000000</td>\n",
       "      <td>0.000000</td>\n",
       "      <td>0.000000</td>\n",
       "    </tr>\n",
       "    <tr>\n",
       "      <th>25%</th>\n",
       "      <td>NaN</td>\n",
       "      <td>2003.000000</td>\n",
       "      <td>NaN</td>\n",
       "      <td>NaN</td>\n",
       "      <td>0.000000</td>\n",
       "      <td>4.000000</td>\n",
       "      <td>7.000000</td>\n",
       "    </tr>\n",
       "    <tr>\n",
       "      <th>50%</th>\n",
       "      <td>NaN</td>\n",
       "      <td>2006.000000</td>\n",
       "      <td>NaN</td>\n",
       "      <td>NaN</td>\n",
       "      <td>2.000000</td>\n",
       "      <td>29.000000</td>\n",
       "      <td>80.000000</td>\n",
       "    </tr>\n",
       "    <tr>\n",
       "      <th>75%</th>\n",
       "      <td>NaN</td>\n",
       "      <td>2008.000000</td>\n",
       "      <td>NaN</td>\n",
       "      <td>NaN</td>\n",
       "      <td>27.000000</td>\n",
       "      <td>177.000000</td>\n",
       "      <td>521.000000</td>\n",
       "    </tr>\n",
       "    <tr>\n",
       "      <th>max</th>\n",
       "      <td>NaN</td>\n",
       "      <td>2010.000000</td>\n",
       "      <td>NaN</td>\n",
       "      <td>NaN</td>\n",
       "      <td>2985.000000</td>\n",
       "      <td>5453.000000</td>\n",
       "      <td>18605.000000</td>\n",
       "    </tr>\n",
       "  </tbody>\n",
       "</table>\n",
       "</div>"
      ],
      "text/plain": [
       "       Area_Name         Year Group_Name               Sub_Group_Name  \\\n",
       "count       1865  1865.000000       1865                         1865   \n",
       "unique        35          NaN          6                            6   \n",
       "top       Kerala          NaN  AT6-Total  6. Total (Sum of 1-5 Above)   \n",
       "freq          60          NaN        344                          344   \n",
       "mean         NaN  2005.564075        NaN                          NaN   \n",
       "std          NaN     2.853598        NaN                          NaN   \n",
       "min          NaN  2001.000000        NaN                          NaN   \n",
       "25%          NaN  2003.000000        NaN                          NaN   \n",
       "50%          NaN  2006.000000        NaN                          NaN   \n",
       "75%          NaN  2008.000000        NaN                          NaN   \n",
       "max          NaN  2010.000000        NaN                          NaN   \n",
       "\n",
       "        Auto_Theft_Coordinated/Traced  Auto_Theft_Recovered  Auto_Theft_Stolen  \n",
       "count                     1519.000000           1837.000000        1865.000000  \n",
       "unique                            NaN                   NaN                NaN  \n",
       "top                               NaN                   NaN                NaN  \n",
       "freq                              NaN                   NaN                NaN  \n",
       "mean                        74.541145            297.927055        1029.431635  \n",
       "std                        270.195127            677.445512        2399.389932  \n",
       "min                          0.000000              0.000000           0.000000  \n",
       "25%                          0.000000              4.000000           7.000000  \n",
       "50%                          2.000000             29.000000          80.000000  \n",
       "75%                         27.000000            177.000000         521.000000  \n",
       "max                       2985.000000           5453.000000       18605.000000  "
      ]
     },
     "execution_count": 8,
     "metadata": {},
     "output_type": "execute_result"
    }
   ],
   "source": [
    "df.describe(include=\"all\")"
   ]
  },
  {
   "cell_type": "code",
   "execution_count": 9,
   "metadata": {},
   "outputs": [],
   "source": [
    "#total 1865.000000 rows and has  null values at coordinated and auto theft recoverd columns\n",
    "\n",
    "#data is recorded from total 35 states of  6 different group of vehicles on diffferent year"
   ]
  },
  {
   "cell_type": "markdown",
   "metadata": {},
   "source": [
    "# EDA"
   ]
  },
  {
   "cell_type": "code",
   "execution_count": 10,
   "metadata": {},
   "outputs": [],
   "source": [
    "#year"
   ]
  },
  {
   "cell_type": "code",
   "execution_count": 11,
   "metadata": {},
   "outputs": [
    {
     "data": {
      "text/plain": [
       "2009    192\n",
       "2008    192\n",
       "2007    190\n",
       "2006    189\n",
       "2005    188\n",
       "2004    188\n",
       "2010    187\n",
       "2003    186\n",
       "2001    177\n",
       "2002    176\n",
       "Name: Year, dtype: int64"
      ]
     },
     "execution_count": 11,
     "metadata": {},
     "output_type": "execute_result"
    }
   ],
   "source": [
    "df[\"Year\"].value_counts()"
   ]
  },
  {
   "cell_type": "code",
   "execution_count": 12,
   "metadata": {},
   "outputs": [
    {
     "data": {
      "text/html": [
       "<div>\n",
       "<style scoped>\n",
       "    .dataframe tbody tr th:only-of-type {\n",
       "        vertical-align: middle;\n",
       "    }\n",
       "\n",
       "    .dataframe tbody tr th {\n",
       "        vertical-align: top;\n",
       "    }\n",
       "\n",
       "    .dataframe thead th {\n",
       "        text-align: right;\n",
       "    }\n",
       "</style>\n",
       "<table border=\"1\" class=\"dataframe\">\n",
       "  <thead>\n",
       "    <tr style=\"text-align: right;\">\n",
       "      <th></th>\n",
       "      <th>Auto_Theft_Coordinated/Traced</th>\n",
       "      <th>Auto_Theft_Recovered</th>\n",
       "      <th>Auto_Theft_Stolen</th>\n",
       "    </tr>\n",
       "    <tr>\n",
       "      <th>Year</th>\n",
       "      <th></th>\n",
       "      <th></th>\n",
       "      <th></th>\n",
       "    </tr>\n",
       "  </thead>\n",
       "  <tbody>\n",
       "    <tr>\n",
       "      <th>2001</th>\n",
       "      <td>6194.0</td>\n",
       "      <td>41588.0</td>\n",
       "      <td>125542</td>\n",
       "    </tr>\n",
       "    <tr>\n",
       "      <th>2002</th>\n",
       "      <td>4152.0</td>\n",
       "      <td>44060.0</td>\n",
       "      <td>135294</td>\n",
       "    </tr>\n",
       "    <tr>\n",
       "      <th>2003</th>\n",
       "      <td>8244.0</td>\n",
       "      <td>45620.0</td>\n",
       "      <td>138976</td>\n",
       "    </tr>\n",
       "    <tr>\n",
       "      <th>2004</th>\n",
       "      <td>10476.0</td>\n",
       "      <td>50728.0</td>\n",
       "      <td>162746</td>\n",
       "    </tr>\n",
       "    <tr>\n",
       "      <th>2005</th>\n",
       "      <td>9352.0</td>\n",
       "      <td>49836.0</td>\n",
       "      <td>169350</td>\n",
       "    </tr>\n",
       "    <tr>\n",
       "      <th>2006</th>\n",
       "      <td>12120.0</td>\n",
       "      <td>52948.0</td>\n",
       "      <td>182200</td>\n",
       "    </tr>\n",
       "    <tr>\n",
       "      <th>2007</th>\n",
       "      <td>12362.0</td>\n",
       "      <td>56252.0</td>\n",
       "      <td>197860</td>\n",
       "    </tr>\n",
       "    <tr>\n",
       "      <th>2008</th>\n",
       "      <td>12406.0</td>\n",
       "      <td>58768.0</td>\n",
       "      <td>239334</td>\n",
       "    </tr>\n",
       "    <tr>\n",
       "      <th>2009</th>\n",
       "      <td>19298.0</td>\n",
       "      <td>71090.0</td>\n",
       "      <td>277200</td>\n",
       "    </tr>\n",
       "    <tr>\n",
       "      <th>2010</th>\n",
       "      <td>18624.0</td>\n",
       "      <td>76402.0</td>\n",
       "      <td>291388</td>\n",
       "    </tr>\n",
       "  </tbody>\n",
       "</table>\n",
       "</div>"
      ],
      "text/plain": [
       "      Auto_Theft_Coordinated/Traced  Auto_Theft_Recovered  Auto_Theft_Stolen\n",
       "Year                                                                        \n",
       "2001                         6194.0               41588.0             125542\n",
       "2002                         4152.0               44060.0             135294\n",
       "2003                         8244.0               45620.0             138976\n",
       "2004                        10476.0               50728.0             162746\n",
       "2005                         9352.0               49836.0             169350\n",
       "2006                        12120.0               52948.0             182200\n",
       "2007                        12362.0               56252.0             197860\n",
       "2008                        12406.0               58768.0             239334\n",
       "2009                        19298.0               71090.0             277200\n",
       "2010                        18624.0               76402.0             291388"
      ]
     },
     "execution_count": 12,
     "metadata": {},
     "output_type": "execute_result"
    }
   ],
   "source": [
    "# Let's get the insight of the data\n",
    "#lets analys year wise all over inida.\n",
    "\n",
    "df1 = df.groupby(['Year']).agg({\"Auto_Theft_Coordinated/Traced\":\"sum\",\"Auto_Theft_Recovered\":\"sum\",\"Auto_Theft_Stolen\":\"sum\"})\n",
    "df1"
   ]
  },
  {
   "cell_type": "code",
   "execution_count": 13,
   "metadata": {},
   "outputs": [
    {
     "name": "stdout",
     "output_type": "stream",
     "text": [
      "total number of Auto stoles all over india in 10 years is: 1919890\n",
      "total number of autos  recovered all over india in 10 years is: 547292.0\n",
      "total number of autos  that could not find all over india in 10 years is: 1372598.0\n",
      "Average number of Auto stoles all over india in 10 years is: 191989.0\n",
      "average number of autos  recovered all over india in 10 years is: 54729.2\n",
      "percentage of average autos recovered every year 28.506424847256874\n"
     ]
    }
   ],
   "source": [
    "total_stolen=df1[\"Auto_Theft_Stolen\"].sum()\n",
    "total_recovered= df1[\"Auto_Theft_Recovered\"].sum()\n",
    "avg_stolen=df1[\"Auto_Theft_Stolen\"].mean()\n",
    "avg_recovered= df1[\"Auto_Theft_Recovered\"].mean()\n",
    "print(\"total number of Auto stoles all over india in 10 years is:\", total_stolen)\n",
    "print(\"total number of autos  recovered all over india in 10 years is:\",total_recovered)\n",
    "print(\"total number of autos  that could not find all over india in 10 years is:\",(total_stolen-total_recovered))\n",
    "print(\"Average number of Auto stoles all over india in 10 years is:\", avg_stolen)\n",
    "print(\"average number of autos  recovered all over india in 10 years is:\",avg_recovered)\n",
    "\n",
    "print(\"percentage of average autos recovered every year\",(avg_recovered/avg_stolen)*100 )\n"
   ]
  },
  {
   "cell_type": "code",
   "execution_count": 14,
   "metadata": {},
   "outputs": [
    {
     "name": "stdout",
     "output_type": "stream",
     "text": [
      "   Year\n",
      "0  2001\n",
      "1  2002\n",
      "2  2003\n",
      "3  2004\n",
      "4  2005\n",
      "5  2006\n",
      "6  2007\n",
      "7  2008\n",
      "8  2009\n",
      "9  2010\n",
      "Average increase in auto theft every year: 16584.6\n"
     ]
    },
    {
     "data": {
      "image/png": "[encoded data removed]",
      "text/plain": [
       "<Figure size 1440x360 with 1 Axes>"
      ]
     },
     "metadata": {
      "needs_background": "light"
     },
     "output_type": "display_data"
    }
   ],
   "source": [
    "a=print(pd.DataFrame(df1.index))\n",
    "plt.figure(figsize=(20,5))\n",
    "sns.barplot(x=df1.index,y=df1['Auto_Theft_Stolen'],palette='rocket_r')\n",
    "plt.title(\"Distribution of Auto_Theft_Stolen\")\n",
    "plt.xticks(rotation=90)\n",
    "print(\"Average increase in auto theft every year:\", (df1['Auto_Theft_Stolen'].max()-df1['Auto_Theft_Stolen'].min())/10)"
   ]
  },
  {
   "cell_type": "code",
   "execution_count": 15,
   "metadata": {},
   "outputs": [
    {
     "name": "stdout",
     "output_type": "stream",
     "text": [
      "   Year\n",
      "0  2001\n",
      "1  2002\n",
      "2  2003\n",
      "3  2004\n",
      "4  2005\n",
      "5  2006\n",
      "6  2007\n",
      "7  2008\n",
      "8  2009\n",
      "9  2010\n",
      "Average increase in auto recovery every year: 3481.4\n"
     ]
    },
    {
     "data": {
      "image/png": "[encoded data removed]",
      "text/plain": [
       "<Figure size 1440x360 with 1 Axes>"
      ]
     },
     "metadata": {
      "needs_background": "light"
     },
     "output_type": "display_data"
    }
   ],
   "source": [
    "a=print(pd.DataFrame(df1.index))\n",
    "plt.figure(figsize=(20,5))\n",
    "sns.barplot(x=df1.index,y=df1['Auto_Theft_Recovered'],palette='rocket_r')\n",
    "plt.title(\"Distribution ofAuto_Theft_Recovered\")\n",
    "plt.xticks(rotation=90)\n",
    "print(\"Average increase in auto recovery every year:\", (df1['Auto_Theft_Recovered'].max()-df1['Auto_Theft_Recovered'].min())/10)"
   ]
  },
  {
   "cell_type": "code",
   "execution_count": 16,
   "metadata": {},
   "outputs": [
    {
     "name": "stdout",
     "output_type": "stream",
     "text": [
      "   Year\n",
      "0  2001\n",
      "1  2002\n",
      "2  2003\n",
      "3  2004\n",
      "4  2005\n",
      "5  2006\n",
      "6  2007\n",
      "7  2008\n",
      "8  2009\n",
      "9  2010\n"
     ]
    },
    {
     "data": {
      "text/plain": [
       "(array([0, 1, 2, 3, 4, 5, 6, 7, 8, 9]), <a list of 10 Text xticklabel objects>)"
      ]
     },
     "execution_count": 16,
     "metadata": {},
     "output_type": "execute_result"
    },
    {
     "data": {
      "image/png": "[encoded data removed]",
      "text/plain": [
       "<Figure size 1440x360 with 1 Axes>"
      ]
     },
     "metadata": {
      "needs_background": "light"
     },
     "output_type": "display_data"
    }
   ],
   "source": [
    "a=print(pd.DataFrame(df1.index))\n",
    "plt.figure(figsize=(20,5))\n",
    "sns.barplot(x=df1.index,y=(df1['Auto_Theft_Stolen']-df1['Auto_Theft_Recovered']),palette='rocket_r')\n",
    "plt.title(\"Distribution of auto that could not find every year\")\n",
    "plt.xticks(rotation=90)\n"
   ]
  },
  {
   "cell_type": "code",
   "execution_count": 17,
   "metadata": {},
   "outputs": [
    {
     "data": {
      "text/html": [
       "<div>\n",
       "<style scoped>\n",
       "    .dataframe tbody tr th:only-of-type {\n",
       "        vertical-align: middle;\n",
       "    }\n",
       "\n",
       "    .dataframe tbody tr th {\n",
       "        vertical-align: top;\n",
       "    }\n",
       "\n",
       "    .dataframe thead th {\n",
       "        text-align: right;\n",
       "    }\n",
       "</style>\n",
       "<table border=\"1\" class=\"dataframe\">\n",
       "  <thead>\n",
       "    <tr style=\"text-align: right;\">\n",
       "      <th></th>\n",
       "      <th>Auto_Theft_Coordinated/Traced</th>\n",
       "      <th>Auto_Theft_Recovered</th>\n",
       "      <th>Auto_Theft_Stolen</th>\n",
       "    </tr>\n",
       "    <tr>\n",
       "      <th>Area_Name</th>\n",
       "      <th></th>\n",
       "      <th></th>\n",
       "      <th></th>\n",
       "    </tr>\n",
       "  </thead>\n",
       "  <tbody>\n",
       "    <tr>\n",
       "      <th>Andaman &amp; Nicobar Islands</th>\n",
       "      <td>2.0</td>\n",
       "      <td>126.0</td>\n",
       "      <td>166</td>\n",
       "    </tr>\n",
       "    <tr>\n",
       "      <th>Andhra Pradesh</th>\n",
       "      <td>4786.0</td>\n",
       "      <td>57162.0</td>\n",
       "      <td>113618</td>\n",
       "    </tr>\n",
       "    <tr>\n",
       "      <th>Arunachal Pradesh</th>\n",
       "      <td>58.0</td>\n",
       "      <td>652.0</td>\n",
       "      <td>1658</td>\n",
       "    </tr>\n",
       "    <tr>\n",
       "      <th>Assam</th>\n",
       "      <td>492.0</td>\n",
       "      <td>5450.0</td>\n",
       "      <td>22236</td>\n",
       "    </tr>\n",
       "    <tr>\n",
       "      <th>Bihar</th>\n",
       "      <td>486.0</td>\n",
       "      <td>6378.0</td>\n",
       "      <td>45754</td>\n",
       "    </tr>\n",
       "    <tr>\n",
       "      <th>Chandigarh</th>\n",
       "      <td>0.0</td>\n",
       "      <td>4614.0</td>\n",
       "      <td>14842</td>\n",
       "    </tr>\n",
       "    <tr>\n",
       "      <th>Chhattisgarh</th>\n",
       "      <td>240.0</td>\n",
       "      <td>11234.0</td>\n",
       "      <td>33310</td>\n",
       "    </tr>\n",
       "    <tr>\n",
       "      <th>Dadra &amp; Nagar Haveli</th>\n",
       "      <td>0.0</td>\n",
       "      <td>174.0</td>\n",
       "      <td>446</td>\n",
       "    </tr>\n",
       "    <tr>\n",
       "      <th>Daman &amp; Diu</th>\n",
       "      <td>18.0</td>\n",
       "      <td>168.0</td>\n",
       "      <td>510</td>\n",
       "    </tr>\n",
       "    <tr>\n",
       "      <th>Delhi</th>\n",
       "      <td>5670.0</td>\n",
       "      <td>37090.0</td>\n",
       "      <td>197330</td>\n",
       "    </tr>\n",
       "    <tr>\n",
       "      <th>Goa</th>\n",
       "      <td>114.0</td>\n",
       "      <td>1426.0</td>\n",
       "      <td>4404</td>\n",
       "    </tr>\n",
       "    <tr>\n",
       "      <th>Gujarat</th>\n",
       "      <td>11730.0</td>\n",
       "      <td>40786.0</td>\n",
       "      <td>158396</td>\n",
       "    </tr>\n",
       "    <tr>\n",
       "      <th>Haryana</th>\n",
       "      <td>3702.0</td>\n",
       "      <td>40568.0</td>\n",
       "      <td>118926</td>\n",
       "    </tr>\n",
       "    <tr>\n",
       "      <th>Himachal Pradesh</th>\n",
       "      <td>418.0</td>\n",
       "      <td>2128.0</td>\n",
       "      <td>4750</td>\n",
       "    </tr>\n",
       "    <tr>\n",
       "      <th>Jammu &amp; Kashmir</th>\n",
       "      <td>164.0</td>\n",
       "      <td>3472.0</td>\n",
       "      <td>13088</td>\n",
       "    </tr>\n",
       "    <tr>\n",
       "      <th>Jharkhand</th>\n",
       "      <td>134.0</td>\n",
       "      <td>4758.0</td>\n",
       "      <td>26826</td>\n",
       "    </tr>\n",
       "    <tr>\n",
       "      <th>Karnataka</th>\n",
       "      <td>4170.0</td>\n",
       "      <td>36628.0</td>\n",
       "      <td>134254</td>\n",
       "    </tr>\n",
       "    <tr>\n",
       "      <th>Kerala</th>\n",
       "      <td>564.0</td>\n",
       "      <td>12414.0</td>\n",
       "      <td>37480</td>\n",
       "    </tr>\n",
       "    <tr>\n",
       "      <th>Lakshadweep</th>\n",
       "      <td>4.0</td>\n",
       "      <td>20.0</td>\n",
       "      <td>22</td>\n",
       "    </tr>\n",
       "    <tr>\n",
       "      <th>Madhya Pradesh</th>\n",
       "      <td>2316.0</td>\n",
       "      <td>41018.0</td>\n",
       "      <td>155380</td>\n",
       "    </tr>\n",
       "    <tr>\n",
       "      <th>Maharashtra</th>\n",
       "      <td>18586.0</td>\n",
       "      <td>70298.0</td>\n",
       "      <td>262564</td>\n",
       "    </tr>\n",
       "    <tr>\n",
       "      <th>Manipur</th>\n",
       "      <td>88.0</td>\n",
       "      <td>192.0</td>\n",
       "      <td>3388</td>\n",
       "    </tr>\n",
       "    <tr>\n",
       "      <th>Meghalaya</th>\n",
       "      <td>8.0</td>\n",
       "      <td>458.0</td>\n",
       "      <td>2348</td>\n",
       "    </tr>\n",
       "    <tr>\n",
       "      <th>Mizoram</th>\n",
       "      <td>230.0</td>\n",
       "      <td>674.0</td>\n",
       "      <td>868</td>\n",
       "    </tr>\n",
       "    <tr>\n",
       "      <th>Nagaland</th>\n",
       "      <td>102.0</td>\n",
       "      <td>784.0</td>\n",
       "      <td>4014</td>\n",
       "    </tr>\n",
       "    <tr>\n",
       "      <th>Odisha</th>\n",
       "      <td>1614.0</td>\n",
       "      <td>10014.0</td>\n",
       "      <td>33144</td>\n",
       "    </tr>\n",
       "    <tr>\n",
       "      <th>Puducherry</th>\n",
       "      <td>1168.0</td>\n",
       "      <td>2910.0</td>\n",
       "      <td>7082</td>\n",
       "    </tr>\n",
       "    <tr>\n",
       "      <th>Punjab</th>\n",
       "      <td>8344.0</td>\n",
       "      <td>14340.0</td>\n",
       "      <td>35484</td>\n",
       "    </tr>\n",
       "    <tr>\n",
       "      <th>Rajasthan</th>\n",
       "      <td>5968.0</td>\n",
       "      <td>29170.0</td>\n",
       "      <td>151722</td>\n",
       "    </tr>\n",
       "    <tr>\n",
       "      <th>Sikkim</th>\n",
       "      <td>12.0</td>\n",
       "      <td>118.0</td>\n",
       "      <td>142</td>\n",
       "    </tr>\n",
       "    <tr>\n",
       "      <th>Tamil Nadu</th>\n",
       "      <td>37180.0</td>\n",
       "      <td>60106.0</td>\n",
       "      <td>82306</td>\n",
       "    </tr>\n",
       "    <tr>\n",
       "      <th>Tripura</th>\n",
       "      <td>0.0</td>\n",
       "      <td>408.0</td>\n",
       "      <td>996</td>\n",
       "    </tr>\n",
       "    <tr>\n",
       "      <th>Uttar Pradesh</th>\n",
       "      <td>2874.0</td>\n",
       "      <td>37278.0</td>\n",
       "      <td>183116</td>\n",
       "    </tr>\n",
       "    <tr>\n",
       "      <th>Uttarakhand</th>\n",
       "      <td>276.0</td>\n",
       "      <td>2910.0</td>\n",
       "      <td>10662</td>\n",
       "    </tr>\n",
       "    <tr>\n",
       "      <th>West Bengal</th>\n",
       "      <td>1710.0</td>\n",
       "      <td>11366.0</td>\n",
       "      <td>58658</td>\n",
       "    </tr>\n",
       "  </tbody>\n",
       "</table>\n",
       "</div>"
      ],
      "text/plain": [
       "                           Auto_Theft_Coordinated/Traced  \\\n",
       "Area_Name                                                  \n",
       "Andaman & Nicobar Islands                            2.0   \n",
       "Andhra Pradesh                                    4786.0   \n",
       "Arunachal Pradesh                                   58.0   \n",
       "Assam                                              492.0   \n",
       "Bihar                                              486.0   \n",
       "Chandigarh                                           0.0   \n",
       "Chhattisgarh                                       240.0   \n",
       "Dadra & Nagar Haveli                                 0.0   \n",
       "Daman & Diu                                         18.0   \n",
       "Delhi                                             5670.0   \n",
       "Goa                                                114.0   \n",
       "Gujarat                                          11730.0   \n",
       "Haryana                                           3702.0   \n",
       "Himachal Pradesh                                   418.0   \n",
       "Jammu & Kashmir                                    164.0   \n",
       "Jharkhand                                          134.0   \n",
       "Karnataka                                         4170.0   \n",
       "Kerala                                             564.0   \n",
       "Lakshadweep                                          4.0   \n",
       "Madhya Pradesh                                    2316.0   \n",
       "Maharashtra                                      18586.0   \n",
       "Manipur                                             88.0   \n",
       "Meghalaya                                            8.0   \n",
       "Mizoram                                            230.0   \n",
       "Nagaland                                           102.0   \n",
       "Odisha                                            1614.0   \n",
       "Puducherry                                        1168.0   \n",
       "Punjab                                            8344.0   \n",
       "Rajasthan                                         5968.0   \n",
       "Sikkim                                              12.0   \n",
       "Tamil Nadu                                       37180.0   \n",
       "Tripura                                              0.0   \n",
       "Uttar Pradesh                                     2874.0   \n",
       "Uttarakhand                                        276.0   \n",
       "West Bengal                                       1710.0   \n",
       "\n",
       "                           Auto_Theft_Recovered  Auto_Theft_Stolen  \n",
       "Area_Name                                                           \n",
       "Andaman & Nicobar Islands                 126.0                166  \n",
       "Andhra Pradesh                          57162.0             113618  \n",
       "Arunachal Pradesh                         652.0               1658  \n",
       "Assam                                    5450.0              22236  \n",
       "Bihar                                    6378.0              45754  \n",
       "Chandigarh                               4614.0              14842  \n",
       "Chhattisgarh                            11234.0              33310  \n",
       "Dadra & Nagar Haveli                      174.0                446  \n",
       "Daman & Diu                               168.0                510  \n",
       "Delhi                                   37090.0             197330  \n",
       "Goa                                      1426.0               4404  \n",
       "Gujarat                                 40786.0             158396  \n",
       "Haryana                                 40568.0             118926  \n",
       "Himachal Pradesh                         2128.0               4750  \n",
       "Jammu & Kashmir                          3472.0              13088  \n",
       "Jharkhand                                4758.0              26826  \n",
       "Karnataka                               36628.0             134254  \n",
       "Kerala                                  12414.0              37480  \n",
       "Lakshadweep                                20.0                 22  \n",
       "Madhya Pradesh                          41018.0             155380  \n",
       "Maharashtra                             70298.0             262564  \n",
       "Manipur                                   192.0               3388  \n",
       "Meghalaya                                 458.0               2348  \n",
       "Mizoram                                   674.0                868  \n",
       "Nagaland                                  784.0               4014  \n",
       "Odisha                                  10014.0              33144  \n",
       "Puducherry                               2910.0               7082  \n",
       "Punjab                                  14340.0              35484  \n",
       "Rajasthan                               29170.0             151722  \n",
       "Sikkim                                    118.0                142  \n",
       "Tamil Nadu                              60106.0              82306  \n",
       "Tripura                                   408.0                996  \n",
       "Uttar Pradesh                           37278.0             183116  \n",
       "Uttarakhand                              2910.0              10662  \n",
       "West Bengal                             11366.0              58658  "
      ]
     },
     "execution_count": 17,
     "metadata": {},
     "output_type": "execute_result"
    }
   ],
   "source": [
    "#lets analys state wise\n",
    "df2 = df.groupby(['Area_Name']).agg({\"Auto_Theft_Coordinated/Traced\":\"sum\",\"Auto_Theft_Recovered\":\"sum\",\"Auto_Theft_Stolen\":\"sum\"})\n",
    "df2"
   ]
  },
  {
   "cell_type": "code",
   "execution_count": 18,
   "metadata": {},
   "outputs": [
    {
     "name": "stdout",
     "output_type": "stream",
     "text": [
      "maximum auto stolen:              Auto_Theft_Coordinated/Traced  Auto_Theft_Recovered  \\\n",
      "Area_Name                                                          \n",
      "Maharashtra                        18586.0               70298.0   \n",
      "\n",
      "             Auto_Theft_Stolen  \n",
      "Area_Name                       \n",
      "Maharashtra             262564  \n",
      "maximum auto recovered:              Auto_Theft_Coordinated/Traced  Auto_Theft_Recovered  \\\n",
      "Area_Name                                                          \n",
      "Maharashtra                        18586.0               70298.0   \n",
      "\n",
      "             Auto_Theft_Stolen  \n",
      "Area_Name                       \n",
      "Maharashtra             262564  \n"
     ]
    }
   ],
   "source": [
    "maximum_auto_stolen=df2.loc[df2['Auto_Theft_Stolen'] == df2['Auto_Theft_Stolen'].max()]\n",
    "maximum_auto_recovered=df2.loc[df2['Auto_Theft_Recovered'] == df2['Auto_Theft_Recovered'].max()]\n",
    "print(\"maximum auto stolen:\",pd.DataFrame(maximum_auto_stolen))\n",
    "print(\"maximum auto recovered:\",pd.DataFrame(maximum_auto_recovered))"
   ]
  },
  {
   "cell_type": "code",
   "execution_count": 19,
   "metadata": {},
   "outputs": [
    {
     "name": "stdout",
     "output_type": "stream",
     "text": [
      "minimum auto stolen:              Auto_Theft_Coordinated/Traced  Auto_Theft_Recovered  \\\n",
      "Area_Name                                                          \n",
      "Maharashtra                        18586.0               70298.0   \n",
      "\n",
      "             Auto_Theft_Stolen  \n",
      "Area_Name                       \n",
      "Maharashtra             262564  \n",
      "miniimum auto recovered:              Auto_Theft_Coordinated/Traced  Auto_Theft_Recovered  \\\n",
      "Area_Name                                                          \n",
      "Maharashtra                        18586.0               70298.0   \n",
      "\n",
      "             Auto_Theft_Stolen  \n",
      "Area_Name                       \n",
      "Maharashtra             262564  \n"
     ]
    }
   ],
   "source": [
    "minmum_auto_stolen=df2.loc[df2['Auto_Theft_Stolen'] == df2['Auto_Theft_Stolen'].min()]\n",
    "minmum_auto_recovered=df2.loc[df2['Auto_Theft_Recovered'] == df2['Auto_Theft_Recovered'].min()]\n",
    "print(\"minimum auto stolen:\",pd.DataFrame(maximum_auto_stolen))\n",
    "print(\"miniimum auto recovered:\",pd.DataFrame(maximum_auto_recovered))"
   ]
  },
  {
   "cell_type": "code",
   "execution_count": 20,
   "metadata": {},
   "outputs": [
    {
     "data": {
      "text/plain": [
       "(array([ 0,  1,  2,  3,  4,  5,  6,  7,  8,  9, 10, 11, 12, 13, 14, 15, 16,\n",
       "        17, 18, 19, 20, 21, 22, 23, 24, 25, 26, 27, 28, 29, 30, 31, 32, 33,\n",
       "        34]), <a list of 35 Text xticklabel objects>)"
      ]
     },
     "execution_count": 20,
     "metadata": {},
     "output_type": "execute_result"
    },
    {
     "data": {
      "image/png": "[encoded data removed]",
      "text/plain": [
       "<Figure size 1440x360 with 1 Axes>"
      ]
     },
     "metadata": {
      "needs_background": "light"
     },
     "output_type": "display_data"
    }
   ],
   "source": [
    "\n",
    "plt.figure(figsize=(20,5))\n",
    "sns.barplot(x=df2.index,y=(df2['Auto_Theft_Stolen']),palette='rocket_r')\n",
    "plt.title(\"Distribution of Auto_Theft_Stolen in each state\")\n",
    "plt.xticks(rotation=90)\n"
   ]
  },
  {
   "cell_type": "code",
   "execution_count": 21,
   "metadata": {},
   "outputs": [
    {
     "data": {
      "text/plain": [
       "(array([ 0,  1,  2,  3,  4,  5,  6,  7,  8,  9, 10, 11, 12, 13, 14, 15, 16,\n",
       "        17, 18, 19, 20, 21, 22, 23, 24, 25, 26, 27, 28, 29, 30, 31, 32, 33,\n",
       "        34]), <a list of 35 Text xticklabel objects>)"
      ]
     },
     "execution_count": 21,
     "metadata": {},
     "output_type": "execute_result"
    },
    {
     "data": {
      "image/png": "[encoded data removed]",
      "text/plain": [
       "<Figure size 1440x360 with 1 Axes>"
      ]
     },
     "metadata": {
      "needs_background": "light"
     },
     "output_type": "display_data"
    }
   ],
   "source": [
    "plt.figure(figsize=(20,5))\n",
    "sns.barplot(x=df2.index,y=(df2['Auto_Theft_Recovered']),palette='rocket_r')\n",
    "plt.title(\"Distribution of Auto_Theft_recovered in each state\")\n",
    "plt.xticks(rotation=90)"
   ]
  },
  {
   "cell_type": "code",
   "execution_count": 22,
   "metadata": {},
   "outputs": [
    {
     "data": {
      "text/plain": [
       "array(['AT1-Motor Cycles/ Scooters', 'AT2-Motor Car/Taxi/Jeep',\n",
       "       'AT3-Buses', 'AT4-Goods carrying vehicles (Trucks/Tempo etc)',\n",
       "       'AT5-Other Motor vehicles', 'AT6-Total'], dtype=object)"
      ]
     },
     "execution_count": 22,
     "metadata": {},
     "output_type": "execute_result"
    }
   ],
   "source": [
    "  #lets analysis type of vehilce\n",
    "df[\"Group_Name\"].unique()"
   ]
  },
  {
   "cell_type": "code",
   "execution_count": 23,
   "metadata": {},
   "outputs": [
    {
     "data": {
      "text/plain": [
       "array([344, 341, 331, 303, 292, 254], dtype=int64)"
      ]
     },
     "execution_count": 23,
     "metadata": {},
     "output_type": "execute_result"
    }
   ],
   "source": [
    "df[\"Group_Name\"].value_counts().unique()"
   ]
  },
  {
   "cell_type": "code",
   "execution_count": 24,
   "metadata": {},
   "outputs": [],
   "source": [
    "df3=df.groupby(['Group_Name']).agg({\"Auto_Theft_Coordinated/Traced\":\"sum\",\"Auto_Theft_Recovered\":\"sum\",\"Auto_Theft_Stolen\":\"sum\"})"
   ]
  },
  {
   "cell_type": "code",
   "execution_count": 25,
   "metadata": {},
   "outputs": [
    {
     "data": {
      "text/html": [
       "<div>\n",
       "<style scoped>\n",
       "    .dataframe tbody tr th:only-of-type {\n",
       "        vertical-align: middle;\n",
       "    }\n",
       "\n",
       "    .dataframe tbody tr th {\n",
       "        vertical-align: top;\n",
       "    }\n",
       "\n",
       "    .dataframe thead th {\n",
       "        text-align: right;\n",
       "    }\n",
       "</style>\n",
       "<table border=\"1\" class=\"dataframe\">\n",
       "  <thead>\n",
       "    <tr style=\"text-align: right;\">\n",
       "      <th></th>\n",
       "      <th>Auto_Theft_Coordinated/Traced</th>\n",
       "      <th>Auto_Theft_Recovered</th>\n",
       "      <th>Auto_Theft_Stolen</th>\n",
       "    </tr>\n",
       "    <tr>\n",
       "      <th>Group_Name</th>\n",
       "      <th></th>\n",
       "      <th></th>\n",
       "      <th></th>\n",
       "    </tr>\n",
       "  </thead>\n",
       "  <tbody>\n",
       "    <tr>\n",
       "      <th>AT1-Motor Cycles/ Scooters</th>\n",
       "      <td>44498.0</td>\n",
       "      <td>209336.0</td>\n",
       "      <td>744619</td>\n",
       "    </tr>\n",
       "    <tr>\n",
       "      <th>AT2-Motor Car/Taxi/Jeep</th>\n",
       "      <td>7781.0</td>\n",
       "      <td>40511.0</td>\n",
       "      <td>157950</td>\n",
       "    </tr>\n",
       "    <tr>\n",
       "      <th>AT3-Buses</th>\n",
       "      <td>116.0</td>\n",
       "      <td>1018.0</td>\n",
       "      <td>1996</td>\n",
       "    </tr>\n",
       "    <tr>\n",
       "      <th>AT4-Goods carrying vehicles (Trucks/Tempo etc)</th>\n",
       "      <td>1390.0</td>\n",
       "      <td>6191.0</td>\n",
       "      <td>15517</td>\n",
       "    </tr>\n",
       "    <tr>\n",
       "      <th>AT5-Other Motor vehicles</th>\n",
       "      <td>2829.0</td>\n",
       "      <td>16590.0</td>\n",
       "      <td>39863</td>\n",
       "    </tr>\n",
       "  </tbody>\n",
       "</table>\n",
       "</div>"
      ],
      "text/plain": [
       "                                                Auto_Theft_Coordinated/Traced  \\\n",
       "Group_Name                                                                      \n",
       "AT1-Motor Cycles/ Scooters                                            44498.0   \n",
       "AT2-Motor Car/Taxi/Jeep                                                7781.0   \n",
       "AT3-Buses                                                               116.0   \n",
       "AT4-Goods carrying vehicles (Trucks/Tempo etc)                         1390.0   \n",
       "AT5-Other Motor vehicles                                               2829.0   \n",
       "\n",
       "                                                Auto_Theft_Recovered  \\\n",
       "Group_Name                                                             \n",
       "AT1-Motor Cycles/ Scooters                                  209336.0   \n",
       "AT2-Motor Car/Taxi/Jeep                                      40511.0   \n",
       "AT3-Buses                                                     1018.0   \n",
       "AT4-Goods carrying vehicles (Trucks/Tempo etc)                6191.0   \n",
       "AT5-Other Motor vehicles                                     16590.0   \n",
       "\n",
       "                                                Auto_Theft_Stolen  \n",
       "Group_Name                                                         \n",
       "AT1-Motor Cycles/ Scooters                                 744619  \n",
       "AT2-Motor Car/Taxi/Jeep                                    157950  \n",
       "AT3-Buses                                                    1996  \n",
       "AT4-Goods carrying vehicles (Trucks/Tempo etc)              15517  \n",
       "AT5-Other Motor vehicles                                    39863  "
      ]
     },
     "execution_count": 25,
     "metadata": {},
     "output_type": "execute_result"
    }
   ],
   "source": [
    "\n",
    "df3.drop(df3.index[len(df3)-1],inplace=True)\n",
    "df3"
   ]
  },
  {
   "cell_type": "code",
   "execution_count": 26,
   "metadata": {},
   "outputs": [
    {
     "name": "stdout",
     "output_type": "stream",
     "text": [
      "most_no_of_recovered_vehicle:                             Auto_Theft_Coordinated/Traced  \\\n",
      "Group_Name                                                  \n",
      "AT1-Motor Cycles/ Scooters                        44498.0   \n",
      "\n",
      "                            Auto_Theft_Recovered  Auto_Theft_Stolen  \n",
      "Group_Name                                                           \n",
      "AT1-Motor Cycles/ Scooters              209336.0             744619  \n",
      "most_no_of_stolen_vehilce:                             Auto_Theft_Coordinated/Traced  \\\n",
      "Group_Name                                                  \n",
      "AT1-Motor Cycles/ Scooters                        44498.0   \n",
      "\n",
      "                            Auto_Theft_Recovered  Auto_Theft_Stolen  \n",
      "Group_Name                                                           \n",
      "AT1-Motor Cycles/ Scooters              209336.0             744619  \n"
     ]
    }
   ],
   "source": [
    "most_no_of_stolen_vehilce=df3.loc[df3['Auto_Theft_Stolen'] == df3['Auto_Theft_Stolen'].max()]\n",
    "most_no_of_recovered_vehicle=df3.loc[df3['Auto_Theft_Recovered'] == df3['Auto_Theft_Recovered'].max()]\n",
    "print(\"most_no_of_recovered_vehicle:\",pd.DataFrame(most_no_of_stolen_vehilce))\n",
    "print(\"most_no_of_stolen_vehilce:\",pd.DataFrame(most_no_of_recovered_vehicle))"
   ]
  },
  {
   "cell_type": "code",
   "execution_count": 27,
   "metadata": {},
   "outputs": [
    {
     "name": "stdout",
     "output_type": "stream",
     "text": [
      "least_no_of_stolen_vehilce:             Auto_Theft_Coordinated/Traced  Auto_Theft_Recovered  \\\n",
      "Group_Name                                                        \n",
      "AT3-Buses                           116.0                1018.0   \n",
      "\n",
      "            Auto_Theft_Stolen  \n",
      "Group_Name                     \n",
      "AT3-Buses                1996  \n",
      "least_no_of_recovered_vehicle:             Auto_Theft_Coordinated/Traced  Auto_Theft_Recovered  \\\n",
      "Group_Name                                                        \n",
      "AT3-Buses                           116.0                1018.0   \n",
      "\n",
      "            Auto_Theft_Stolen  \n",
      "Group_Name                     \n",
      "AT3-Buses                1996  \n"
     ]
    }
   ],
   "source": [
    "least_no_of_stolen_vehilce=df3.loc[df3['Auto_Theft_Stolen'] == df3['Auto_Theft_Stolen'].min()]\n",
    "least_no_of_recovered_vehicle=df3.loc[df3['Auto_Theft_Recovered'] == df3['Auto_Theft_Recovered'].min()]\n",
    "print(\"least_no_of_stolen_vehilce:\",pd.DataFrame(least_no_of_stolen_vehilce))\n",
    "print(\"least_no_of_recovered_vehicle:\",pd.DataFrame(least_no_of_recovered_vehicle))"
   ]
  },
  {
   "cell_type": "code",
   "execution_count": 28,
   "metadata": {},
   "outputs": [
    {
     "data": {
      "text/html": [
       "<div>\n",
       "<style scoped>\n",
       "    .dataframe tbody tr th:only-of-type {\n",
       "        vertical-align: middle;\n",
       "    }\n",
       "\n",
       "    .dataframe tbody tr th {\n",
       "        vertical-align: top;\n",
       "    }\n",
       "\n",
       "    .dataframe thead th {\n",
       "        text-align: right;\n",
       "    }\n",
       "</style>\n",
       "<table border=\"1\" class=\"dataframe\">\n",
       "  <thead>\n",
       "    <tr style=\"text-align: right;\">\n",
       "      <th></th>\n",
       "      <th>Auto_Theft_Coordinated/Traced</th>\n",
       "      <th>Auto_Theft_Recovered</th>\n",
       "      <th>Auto_Theft_Stolen</th>\n",
       "    </tr>\n",
       "    <tr>\n",
       "      <th>Group_Name</th>\n",
       "      <th></th>\n",
       "      <th></th>\n",
       "      <th></th>\n",
       "    </tr>\n",
       "  </thead>\n",
       "  <tbody>\n",
       "    <tr>\n",
       "      <th>AT1-Motor Cycles/ Scooters</th>\n",
       "      <td>44498.0</td>\n",
       "      <td>209336.0</td>\n",
       "      <td>744619</td>\n",
       "    </tr>\n",
       "    <tr>\n",
       "      <th>AT2-Motor Car/Taxi/Jeep</th>\n",
       "      <td>7781.0</td>\n",
       "      <td>40511.0</td>\n",
       "      <td>157950</td>\n",
       "    </tr>\n",
       "    <tr>\n",
       "      <th>AT5-Other Motor vehicles</th>\n",
       "      <td>2829.0</td>\n",
       "      <td>16590.0</td>\n",
       "      <td>39863</td>\n",
       "    </tr>\n",
       "    <tr>\n",
       "      <th>AT4-Goods carrying vehicles (Trucks/Tempo etc)</th>\n",
       "      <td>1390.0</td>\n",
       "      <td>6191.0</td>\n",
       "      <td>15517</td>\n",
       "    </tr>\n",
       "    <tr>\n",
       "      <th>AT3-Buses</th>\n",
       "      <td>116.0</td>\n",
       "      <td>1018.0</td>\n",
       "      <td>1996</td>\n",
       "    </tr>\n",
       "  </tbody>\n",
       "</table>\n",
       "</div>"
      ],
      "text/plain": [
       "                                                Auto_Theft_Coordinated/Traced  \\\n",
       "Group_Name                                                                      \n",
       "AT1-Motor Cycles/ Scooters                                            44498.0   \n",
       "AT2-Motor Car/Taxi/Jeep                                                7781.0   \n",
       "AT5-Other Motor vehicles                                               2829.0   \n",
       "AT4-Goods carrying vehicles (Trucks/Tempo etc)                         1390.0   \n",
       "AT3-Buses                                                               116.0   \n",
       "\n",
       "                                                Auto_Theft_Recovered  \\\n",
       "Group_Name                                                             \n",
       "AT1-Motor Cycles/ Scooters                                  209336.0   \n",
       "AT2-Motor Car/Taxi/Jeep                                      40511.0   \n",
       "AT5-Other Motor vehicles                                     16590.0   \n",
       "AT4-Goods carrying vehicles (Trucks/Tempo etc)                6191.0   \n",
       "AT3-Buses                                                     1018.0   \n",
       "\n",
       "                                                Auto_Theft_Stolen  \n",
       "Group_Name                                                         \n",
       "AT1-Motor Cycles/ Scooters                                 744619  \n",
       "AT2-Motor Car/Taxi/Jeep                                    157950  \n",
       "AT5-Other Motor vehicles                                    39863  \n",
       "AT4-Goods carrying vehicles (Trucks/Tempo etc)              15517  \n",
       "AT3-Buses                                                    1996  "
      ]
     },
     "execution_count": 28,
     "metadata": {},
     "output_type": "execute_result"
    }
   ],
   "source": [
    "df3.sort_values([\"Auto_Theft_Stolen\"],ascending=False).head(10)"
   ]
  },
  {
   "cell_type": "code",
   "execution_count": 29,
   "metadata": {},
   "outputs": [
    {
     "data": {
      "text/plain": [
       "<matplotlib.axes._subplots.AxesSubplot at 0xb90e0b8>"
      ]
     },
     "execution_count": 29,
     "metadata": {},
     "output_type": "execute_result"
    },
    {
     "data": {
      "image/png": "[encoded data removed]",
      "text/plain": [
       "<Figure size 432x288 with 1 Axes>"
      ]
     },
     "metadata": {
      "needs_background": "light"
     },
     "output_type": "display_data"
    }
   ],
   "source": [
    "sns.barplot(x=df3[\"Auto_Theft_Stolen\"],y=df3.index,data=df3)\n"
   ]
  },
  {
   "cell_type": "code",
   "execution_count": 30,
   "metadata": {},
   "outputs": [
    {
     "data": {
      "text/plain": [
       "<matplotlib.axes._subplots.AxesSubplot at 0xb9436a0>"
      ]
     },
     "execution_count": 30,
     "metadata": {},
     "output_type": "execute_result"
    },
    {
     "data": {
      "image/png": "[encoded data removed]",
      "text/plain": [
       "<Figure size 432x288 with 1 Axes>"
      ]
     },
     "metadata": {
      "needs_background": "light"
     },
     "output_type": "display_data"
    }
   ],
   "source": [
    "sns.barplot(x=df3[\"Auto_Theft_Recovered\"],y=df3.index,data=df3)"
   ]
  },
  {
   "cell_type": "code",
   "execution_count": 31,
   "metadata": {},
   "outputs": [],
   "source": [
    "from sklearn.preprocessing import LabelEncoder\n",
    "lb = LabelEncoder()\n",
    "\n",
    "variable = [\"Area_Name\",\"Year\",\"Group_Name\",\"Sub_Group_Name\"]\n",
    "for i in variable:\n",
    "    df[i] = lb.fit_transform(df[i])"
   ]
  },
  {
   "cell_type": "code",
   "execution_count": 32,
   "metadata": {},
   "outputs": [
    {
     "data": {
      "text/plain": [
       "<matplotlib.axes._subplots.AxesSubplot at 0xaecbac8>"
      ]
     },
     "execution_count": 32,
     "metadata": {},
     "output_type": "execute_result"
    },
    {
     "data": {
      "image/png": "[encoded data removed]",
      "text/plain": [
       "<Figure size 1080x864 with 2 Axes>"
      ]
     },
     "metadata": {
      "needs_background": "light"
     },
     "output_type": "display_data"
    }
   ],
   "source": [
    "plt.figure(figsize=(15,12))\n",
    "sns.heatmap(df.corr(),annot=True)"
   ]
  },
  {
   "cell_type": "markdown",
   "metadata": {},
   "source": [
    "# DATA cleaning"
   ]
  },
  {
   "cell_type": "code",
   "execution_count": 33,
   "metadata": {},
   "outputs": [
    {
     "data": {
      "text/plain": [
       "Area_Name                          0\n",
       "Year                               0\n",
       "Group_Name                         0\n",
       "Sub_Group_Name                     0\n",
       "Auto_Theft_Coordinated/Traced    346\n",
       "Auto_Theft_Recovered              28\n",
       "Auto_Theft_Stolen                  0\n",
       "dtype: int64"
      ]
     },
     "execution_count": 33,
     "metadata": {},
     "output_type": "execute_result"
    }
   ],
   "source": [
    "df.isnull().sum()"
   ]
  },
  {
   "cell_type": "code",
   "execution_count": 34,
   "metadata": {},
   "outputs": [],
   "source": [
    "df[\"Auto_Theft_Coordinated/Traced\"].fillna(df[\"Auto_Theft_Coordinated/Traced\"].mean(),inplace=True)\n",
    "df[\"Auto_Theft_Recovered\"].fillna(df[\"Auto_Theft_Recovered\"].mean(), inplace=True)"
   ]
  },
  {
   "cell_type": "code",
   "execution_count": 57,
   "metadata": {},
   "outputs": [
    {
     "data": {
      "text/plain": [
       "Area_Name                        0\n",
       "Year                             0\n",
       "Group_Name                       0\n",
       "Sub_Group_Name                   0\n",
       "Auto_Theft_Coordinated/Traced    0\n",
       "Auto_Theft_Recovered             0\n",
       "Auto_Theft_Stolen                0\n",
       "dtype: int64"
      ]
     },
     "execution_count": 57,
     "metadata": {},
     "output_type": "execute_result"
    }
   ],
   "source": [
    "df.isnull().sum()"
   ]
  },
  {
   "cell_type": "code",
   "execution_count": 58,
   "metadata": {},
   "outputs": [
    {
     "data": {
      "text/plain": [
       "Area_Name                           AxesSubplot(0.125,0.657941;0.168478x0.222059)\n",
       "Year                             AxesSubplot(0.327174,0.657941;0.168478x0.222059)\n",
       "Group_Name                       AxesSubplot(0.529348,0.657941;0.168478x0.222059)\n",
       "Sub_Group_Name                   AxesSubplot(0.731522,0.657941;0.168478x0.222059)\n",
       "Auto_Theft_Coordinated/Traced       AxesSubplot(0.125,0.391471;0.168478x0.222059)\n",
       "Auto_Theft_Recovered             AxesSubplot(0.327174,0.391471;0.168478x0.222059)\n",
       "Auto_Theft_Stolen                AxesSubplot(0.529348,0.391471;0.168478x0.222059)\n",
       "dtype: object"
      ]
     },
     "execution_count": 58,
     "metadata": {},
     "output_type": "execute_result"
    },
    {
     "data": {
      "image/png": "[encoded data removed]",
      "text/plain": [
       "<Figure size 1440x1440 with 12 Axes>"
      ]
     },
     "metadata": {
      "needs_background": "light"
     },
     "output_type": "display_data"
    }
   ],
   "source": [
    "df.plot(kind=\"box\", subplots=True, layout=(3,4),figsize=(20,20))"
   ]
  },
  {
   "cell_type": "code",
   "execution_count": 36,
   "metadata": {},
   "outputs": [
    {
     "name": "stdout",
     "output_type": "stream",
     "text": [
      "StandardScaler(copy=True, with_mean=True, with_std=True)\n"
     ]
    },
    {
     "name": "stderr",
     "output_type": "stream",
     "text": [
      "C:\\Users\\Admin\\Anaconda3\\lib\\site-packages\\sklearn\\preprocessing\\data.py:625: DataConversionWarning: Data with input dtype int32, int64, float64 were all converted to float64 by StandardScaler.\n",
      "  return self.partial_fit(X, y)\n"
     ]
    }
   ],
   "source": [
    "from sklearn.preprocessing import StandardScaler\n",
    "sl=StandardScaler()\n",
    "print(sl.fit(df))"
   ]
  },
  {
   "cell_type": "code",
   "execution_count": 59,
   "metadata": {},
   "outputs": [
    {
     "data": {
      "text/plain": [
       "array([[1.70120325e+00, 1.59983959e+00, 1.40758182e+00, ...,\n",
       "        5.82970018e-17, 4.37288718e-01, 4.27486440e-01],\n",
       "       [1.60158180e+00, 1.59983959e+00, 1.40758182e+00, ...,\n",
       "        2.52121848e-01, 1.50719494e+00, 7.06855981e-01],\n",
       "       [1.50196034e+00, 1.59983959e+00, 1.40758182e+00, ...,\n",
       "        3.05789158e-01, 4.11997041e-01, 4.17898099e-01],\n",
       "       ...,\n",
       "       [1.48668327e+00, 1.55491928e+00, 1.41697175e+00, ...,\n",
       "        1.76586568e+00, 3.17793338e+00, 6.53489973e+00],\n",
       "       [1.58630473e+00, 1.55491928e+00, 1.41697175e+00, ...,\n",
       "        5.82970018e-17, 8.02297453e-02, 7.35515944e-02],\n",
       "       [1.68592618e+00, 1.55491928e+00, 1.41697175e+00, ...,\n",
       "        1.12981678e-01, 5.10405306e-01, 1.36553331e+00]])"
      ]
     },
     "execution_count": 59,
     "metadata": {},
     "output_type": "execute_result"
    }
   ],
   "source": [
    "from scipy.stats import zscore\n",
    "z=np.abs(zscore(df))\n",
    "z"
   ]
  },
  {
   "cell_type": "code",
   "execution_count": 63,
   "metadata": {},
   "outputs": [
    {
     "name": "stdout",
     "output_type": "stream",
     "text": [
      "(1775, 7)\n",
      "using z score percentage of outlier removed: 1.054481546572935\n"
     ]
    }
   ],
   "source": [
    "df_new=df[(z<3).all(axis=1)]\n",
    "print(df_new.shape)\n",
    "percentage_ofouliers=((1865-1775)/8535)*100\n",
    "\n",
    "print(\"using z score percentage of outlier removed:\",percentage_ofouliers)"
   ]
  },
  {
   "cell_type": "code",
   "execution_count": 62,
   "metadata": {},
   "outputs": [
    {
     "data": {
      "text/plain": [
       "(1865, 7)"
      ]
     },
     "execution_count": 62,
     "metadata": {},
     "output_type": "execute_result"
    }
   ],
   "source": [
    "df.shape"
   ]
  },
  {
   "cell_type": "code",
   "execution_count": 64,
   "metadata": {},
   "outputs": [],
   "source": [
    "# Features and Target variable\n",
    "X = df_new.drop('Auto_Theft_Recovered',axis=1)\n",
    "y = df_new['Auto_Theft_Recovered']"
   ]
  },
  {
   "cell_type": "markdown",
   "metadata": {},
   "source": [
    "# Model fitting"
   ]
  },
  {
   "cell_type": "code",
   "execution_count": 65,
   "metadata": {},
   "outputs": [],
   "source": [
    "from sklearn.linear_model import LinearRegression,Lasso,Ridge,ElasticNet\n",
    "from sklearn.neighbors import KNeighborsRegressor\n",
    "from sklearn.svm import SVR\n",
    "from sklearn.ensemble import RandomForestRegressor,AdaBoostRegressor\n",
    "from sklearn.tree import DecisionTreeRegressor\n",
    "\n",
    "#Optimizer\n",
    "from sklearn.model_selection import GridSearchCV,cross_val_score\n",
    "\n",
    "#Metrics\n",
    "from sklearn.metrics import accuracy_score,classification_report,confusion_matrix,f1_score,average_precision_score\n",
    "from sklearn.metrics import adjusted_mutual_info_score,balanced_accuracy_score,roc_curve,auc\n",
    "from sklearn.metrics import r2_score,mean_absolute_error,mean_squared_error\n",
    "from sklearn.model_selection import train_test_split\n",
    "import warnings\n",
    "warnings.filterwarnings(\"ignore\")"
   ]
  },
  {
   "cell_type": "code",
   "execution_count": 66,
   "metadata": {},
   "outputs": [],
   "source": [
    "#Define a function to try different train test folds\n",
    "def model_select(model):\n",
    "    max_score=0\n",
    "    max_state=0\n",
    "    for x in range(42,105):\n",
    "        X_train, X_test, y_train, y_test = train_test_split(X, y, test_size=0.33, random_state=x)\n",
    "        md=model()\n",
    "        md.fit(X_train,y_train)\n",
    "        predict=md.predict(X_test)\n",
    "        r2score=r2_score(y_test,predict)\n",
    "        if r2score>max_score:\n",
    "            max_score=r2score\n",
    "            max_state=x\n",
    "    print(\"Max score is {} with random state {}\".format(max_score,max_state))"
   ]
  },
  {
   "cell_type": "code",
   "execution_count": 67,
   "metadata": {},
   "outputs": [
    {
     "name": "stdout",
     "output_type": "stream",
     "text": [
      "Max score is 0.9050245310275213 with random state 60\n"
     ]
    }
   ],
   "source": [
    "model_select(KNeighborsRegressor)"
   ]
  },
  {
   "cell_type": "code",
   "execution_count": 68,
   "metadata": {},
   "outputs": [
    {
     "name": "stdout",
     "output_type": "stream",
     "text": [
      "Max score is 0.9293039572916255 with random state 64\n"
     ]
    }
   ],
   "source": [
    "model_select(DecisionTreeRegressor)"
   ]
  },
  {
   "cell_type": "code",
   "execution_count": 69,
   "metadata": {},
   "outputs": [
    {
     "name": "stdout",
     "output_type": "stream",
     "text": [
      "Max score is 0.9169649838181564 with random state 51\n"
     ]
    }
   ],
   "source": [
    "model_select(Ridge)"
   ]
  },
  {
   "cell_type": "code",
   "execution_count": 70,
   "metadata": {},
   "outputs": [
    {
     "name": "stdout",
     "output_type": "stream",
     "text": [
      "Max score is 0.9169516131623326 with random state 51\n"
     ]
    }
   ],
   "source": [
    "model_select(ElasticNet)"
   ]
  },
  {
   "cell_type": "code",
   "execution_count": 71,
   "metadata": {},
   "outputs": [
    {
     "name": "stdout",
     "output_type": "stream",
     "text": [
      "Max score is 0.9169524602482535 with random state 51\n"
     ]
    }
   ],
   "source": [
    "model_select(Lasso)"
   ]
  },
  {
   "cell_type": "code",
   "execution_count": 72,
   "metadata": {},
   "outputs": [
    {
     "name": "stdout",
     "output_type": "stream",
     "text": [
      "Max score is 0.9463694013270257 with random state 76\n"
     ]
    }
   ],
   "source": [
    "model_select(RandomForestRegressor)"
   ]
  },
  {
   "cell_type": "code",
   "execution_count": 73,
   "metadata": {},
   "outputs": [],
   "source": [
    "X_train, X_test, y_train, y_test = train_test_split(X, y, test_size=0.33, random_state=87)"
   ]
  },
  {
   "cell_type": "code",
   "execution_count": 74,
   "metadata": {},
   "outputs": [
    {
     "data": {
      "text/plain": [
       "0.9112251331723649"
      ]
     },
     "execution_count": 74,
     "metadata": {},
     "output_type": "execute_result"
    }
   ],
   "source": [
    "cross_val_score(RandomForestRegressor(),X_train,y_train,cv=5).mean()"
   ]
  },
  {
   "cell_type": "code",
   "execution_count": 75,
   "metadata": {},
   "outputs": [
    {
     "name": "stdout",
     "output_type": "stream",
     "text": [
      "0.9857994868778154\n"
     ]
    }
   ],
   "source": [
    "rg=RandomForestRegressor()\n",
    "rg.fit(X_train,y_train)\n",
    "print(rg.score(X_train, y_train))"
   ]
  },
  {
   "cell_type": "code",
   "execution_count": 76,
   "metadata": {},
   "outputs": [
    {
     "data": {
      "text/html": [
       "<div>\n",
       "<style scoped>\n",
       "    .dataframe tbody tr th:only-of-type {\n",
       "        vertical-align: middle;\n",
       "    }\n",
       "\n",
       "    .dataframe tbody tr th {\n",
       "        vertical-align: top;\n",
       "    }\n",
       "\n",
       "    .dataframe thead th {\n",
       "        text-align: right;\n",
       "    }\n",
       "</style>\n",
       "<table border=\"1\" class=\"dataframe\">\n",
       "  <thead>\n",
       "    <tr style=\"text-align: right;\">\n",
       "      <th></th>\n",
       "      <th>0</th>\n",
       "    </tr>\n",
       "  </thead>\n",
       "  <tbody>\n",
       "    <tr>\n",
       "      <th>0</th>\n",
       "      <td>0.000000</td>\n",
       "    </tr>\n",
       "    <tr>\n",
       "      <th>1</th>\n",
       "      <td>13.700000</td>\n",
       "    </tr>\n",
       "    <tr>\n",
       "      <th>2</th>\n",
       "      <td>304.700000</td>\n",
       "    </tr>\n",
       "    <tr>\n",
       "      <th>3</th>\n",
       "      <td>1660.900000</td>\n",
       "    </tr>\n",
       "    <tr>\n",
       "      <th>4</th>\n",
       "      <td>21.600000</td>\n",
       "    </tr>\n",
       "    <tr>\n",
       "      <th>5</th>\n",
       "      <td>78.400000</td>\n",
       "    </tr>\n",
       "    <tr>\n",
       "      <th>6</th>\n",
       "      <td>2.800000</td>\n",
       "    </tr>\n",
       "    <tr>\n",
       "      <th>7</th>\n",
       "      <td>38.300000</td>\n",
       "    </tr>\n",
       "    <tr>\n",
       "      <th>8</th>\n",
       "      <td>1.900000</td>\n",
       "    </tr>\n",
       "    <tr>\n",
       "      <th>9</th>\n",
       "      <td>478.500000</td>\n",
       "    </tr>\n",
       "    <tr>\n",
       "      <th>10</th>\n",
       "      <td>62.900000</td>\n",
       "    </tr>\n",
       "    <tr>\n",
       "      <th>11</th>\n",
       "      <td>101.600000</td>\n",
       "    </tr>\n",
       "    <tr>\n",
       "      <th>12</th>\n",
       "      <td>7.800000</td>\n",
       "    </tr>\n",
       "    <tr>\n",
       "      <th>13</th>\n",
       "      <td>4.000000</td>\n",
       "    </tr>\n",
       "    <tr>\n",
       "      <th>14</th>\n",
       "      <td>0.000000</td>\n",
       "    </tr>\n",
       "    <tr>\n",
       "      <th>15</th>\n",
       "      <td>30.600000</td>\n",
       "    </tr>\n",
       "    <tr>\n",
       "      <th>16</th>\n",
       "      <td>6.600000</td>\n",
       "    </tr>\n",
       "    <tr>\n",
       "      <th>17</th>\n",
       "      <td>77.300000</td>\n",
       "    </tr>\n",
       "    <tr>\n",
       "      <th>18</th>\n",
       "      <td>1742.300000</td>\n",
       "    </tr>\n",
       "    <tr>\n",
       "      <th>19</th>\n",
       "      <td>379.000000</td>\n",
       "    </tr>\n",
       "    <tr>\n",
       "      <th>20</th>\n",
       "      <td>11.700000</td>\n",
       "    </tr>\n",
       "    <tr>\n",
       "      <th>21</th>\n",
       "      <td>54.800000</td>\n",
       "    </tr>\n",
       "    <tr>\n",
       "      <th>22</th>\n",
       "      <td>6.100000</td>\n",
       "    </tr>\n",
       "    <tr>\n",
       "      <th>23</th>\n",
       "      <td>434.700000</td>\n",
       "    </tr>\n",
       "    <tr>\n",
       "      <th>24</th>\n",
       "      <td>82.600000</td>\n",
       "    </tr>\n",
       "    <tr>\n",
       "      <th>25</th>\n",
       "      <td>364.600000</td>\n",
       "    </tr>\n",
       "    <tr>\n",
       "      <th>26</th>\n",
       "      <td>2.500000</td>\n",
       "    </tr>\n",
       "    <tr>\n",
       "      <th>27</th>\n",
       "      <td>70.500000</td>\n",
       "    </tr>\n",
       "    <tr>\n",
       "      <th>28</th>\n",
       "      <td>5.200000</td>\n",
       "    </tr>\n",
       "    <tr>\n",
       "      <th>29</th>\n",
       "      <td>35.000000</td>\n",
       "    </tr>\n",
       "    <tr>\n",
       "      <th>...</th>\n",
       "      <td>...</td>\n",
       "    </tr>\n",
       "    <tr>\n",
       "      <th>556</th>\n",
       "      <td>66.600000</td>\n",
       "    </tr>\n",
       "    <tr>\n",
       "      <th>557</th>\n",
       "      <td>97.400000</td>\n",
       "    </tr>\n",
       "    <tr>\n",
       "      <th>558</th>\n",
       "      <td>5.100000</td>\n",
       "    </tr>\n",
       "    <tr>\n",
       "      <th>559</th>\n",
       "      <td>0.000000</td>\n",
       "    </tr>\n",
       "    <tr>\n",
       "      <th>560</th>\n",
       "      <td>24.600000</td>\n",
       "    </tr>\n",
       "    <tr>\n",
       "      <th>561</th>\n",
       "      <td>30.300000</td>\n",
       "    </tr>\n",
       "    <tr>\n",
       "      <th>562</th>\n",
       "      <td>1081.300000</td>\n",
       "    </tr>\n",
       "    <tr>\n",
       "      <th>563</th>\n",
       "      <td>4.200000</td>\n",
       "    </tr>\n",
       "    <tr>\n",
       "      <th>564</th>\n",
       "      <td>60.685411</td>\n",
       "    </tr>\n",
       "    <tr>\n",
       "      <th>565</th>\n",
       "      <td>43.200000</td>\n",
       "    </tr>\n",
       "    <tr>\n",
       "      <th>566</th>\n",
       "      <td>1605.500000</td>\n",
       "    </tr>\n",
       "    <tr>\n",
       "      <th>567</th>\n",
       "      <td>62.800000</td>\n",
       "    </tr>\n",
       "    <tr>\n",
       "      <th>568</th>\n",
       "      <td>39.492705</td>\n",
       "    </tr>\n",
       "    <tr>\n",
       "      <th>569</th>\n",
       "      <td>4.200000</td>\n",
       "    </tr>\n",
       "    <tr>\n",
       "      <th>570</th>\n",
       "      <td>106.300000</td>\n",
       "    </tr>\n",
       "    <tr>\n",
       "      <th>571</th>\n",
       "      <td>7.300000</td>\n",
       "    </tr>\n",
       "    <tr>\n",
       "      <th>572</th>\n",
       "      <td>62.985411</td>\n",
       "    </tr>\n",
       "    <tr>\n",
       "      <th>573</th>\n",
       "      <td>0.200000</td>\n",
       "    </tr>\n",
       "    <tr>\n",
       "      <th>574</th>\n",
       "      <td>30.900000</td>\n",
       "    </tr>\n",
       "    <tr>\n",
       "      <th>575</th>\n",
       "      <td>6.900000</td>\n",
       "    </tr>\n",
       "    <tr>\n",
       "      <th>576</th>\n",
       "      <td>191.700000</td>\n",
       "    </tr>\n",
       "    <tr>\n",
       "      <th>577</th>\n",
       "      <td>131.000000</td>\n",
       "    </tr>\n",
       "    <tr>\n",
       "      <th>578</th>\n",
       "      <td>0.000000</td>\n",
       "    </tr>\n",
       "    <tr>\n",
       "      <th>579</th>\n",
       "      <td>1248.500000</td>\n",
       "    </tr>\n",
       "    <tr>\n",
       "      <th>580</th>\n",
       "      <td>6.800000</td>\n",
       "    </tr>\n",
       "    <tr>\n",
       "      <th>581</th>\n",
       "      <td>101.600000</td>\n",
       "    </tr>\n",
       "    <tr>\n",
       "      <th>582</th>\n",
       "      <td>3.300000</td>\n",
       "    </tr>\n",
       "    <tr>\n",
       "      <th>583</th>\n",
       "      <td>8.900000</td>\n",
       "    </tr>\n",
       "    <tr>\n",
       "      <th>584</th>\n",
       "      <td>336.800000</td>\n",
       "    </tr>\n",
       "    <tr>\n",
       "      <th>585</th>\n",
       "      <td>149.963527</td>\n",
       "    </tr>\n",
       "  </tbody>\n",
       "</table>\n",
       "<p>586 rows × 1 columns</p>\n",
       "</div>"
      ],
      "text/plain": [
       "               0\n",
       "0       0.000000\n",
       "1      13.700000\n",
       "2     304.700000\n",
       "3    1660.900000\n",
       "4      21.600000\n",
       "5      78.400000\n",
       "6       2.800000\n",
       "7      38.300000\n",
       "8       1.900000\n",
       "9     478.500000\n",
       "10     62.900000\n",
       "11    101.600000\n",
       "12      7.800000\n",
       "13      4.000000\n",
       "14      0.000000\n",
       "15     30.600000\n",
       "16      6.600000\n",
       "17     77.300000\n",
       "18   1742.300000\n",
       "19    379.000000\n",
       "20     11.700000\n",
       "21     54.800000\n",
       "22      6.100000\n",
       "23    434.700000\n",
       "24     82.600000\n",
       "25    364.600000\n",
       "26      2.500000\n",
       "27     70.500000\n",
       "28      5.200000\n",
       "29     35.000000\n",
       "..           ...\n",
       "556    66.600000\n",
       "557    97.400000\n",
       "558     5.100000\n",
       "559     0.000000\n",
       "560    24.600000\n",
       "561    30.300000\n",
       "562  1081.300000\n",
       "563     4.200000\n",
       "564    60.685411\n",
       "565    43.200000\n",
       "566  1605.500000\n",
       "567    62.800000\n",
       "568    39.492705\n",
       "569     4.200000\n",
       "570   106.300000\n",
       "571     7.300000\n",
       "572    62.985411\n",
       "573     0.200000\n",
       "574    30.900000\n",
       "575     6.900000\n",
       "576   191.700000\n",
       "577   131.000000\n",
       "578     0.000000\n",
       "579  1248.500000\n",
       "580     6.800000\n",
       "581   101.600000\n",
       "582     3.300000\n",
       "583     8.900000\n",
       "584   336.800000\n",
       "585   149.963527\n",
       "\n",
       "[586 rows x 1 columns]"
      ]
     },
     "execution_count": 76,
     "metadata": {},
     "output_type": "execute_result"
    }
   ],
   "source": [
    "predict=rg.predict(X_test)\n",
    "\n",
    "predict=pd.DataFrame((predict))\n",
    "predict"
   ]
  },
  {
   "cell_type": "code",
   "execution_count": 77,
   "metadata": {},
   "outputs": [
    {
     "name": "stdout",
     "output_type": "stream",
     "text": [
      "R2 score is 0.9403172134617089\n",
      "Mean absolute error is 43.45064274182011\n",
      "Mean squared error is 8977.506883036269\n"
     ]
    }
   ],
   "source": [
    "print(\"R2 score is \"+str(r2_score(y_test,predict)))\n",
    "print(\"Mean absolute error is \"+str(mean_absolute_error(y_test,predict)))\n",
    "print(\"Mean squared error is \"+str(mean_squared_error(y_test,predict)))"
   ]
  },
  {
   "cell_type": "code",
   "execution_count": 78,
   "metadata": {},
   "outputs": [
    {
     "data": {
      "text/html": [
       "<div>\n",
       "<style scoped>\n",
       "    .dataframe tbody tr th:only-of-type {\n",
       "        vertical-align: middle;\n",
       "    }\n",
       "\n",
       "    .dataframe tbody tr th {\n",
       "        vertical-align: top;\n",
       "    }\n",
       "\n",
       "    .dataframe thead th {\n",
       "        text-align: right;\n",
       "    }\n",
       "</style>\n",
       "<table border=\"1\" class=\"dataframe\">\n",
       "  <thead>\n",
       "    <tr style=\"text-align: right;\">\n",
       "      <th></th>\n",
       "      <th>Auto_Theft_Recovered</th>\n",
       "    </tr>\n",
       "  </thead>\n",
       "  <tbody>\n",
       "    <tr>\n",
       "      <th>1222</th>\n",
       "      <td>0.0</td>\n",
       "    </tr>\n",
       "    <tr>\n",
       "      <th>625</th>\n",
       "      <td>1.0</td>\n",
       "    </tr>\n",
       "    <tr>\n",
       "      <th>1729</th>\n",
       "      <td>597.0</td>\n",
       "    </tr>\n",
       "    <tr>\n",
       "      <th>1773</th>\n",
       "      <td>2301.0</td>\n",
       "    </tr>\n",
       "    <tr>\n",
       "      <th>986</th>\n",
       "      <td>26.0</td>\n",
       "    </tr>\n",
       "    <tr>\n",
       "      <th>282</th>\n",
       "      <td>71.0</td>\n",
       "    </tr>\n",
       "    <tr>\n",
       "      <th>1030</th>\n",
       "      <td>2.0</td>\n",
       "    </tr>\n",
       "    <tr>\n",
       "      <th>1677</th>\n",
       "      <td>7.0</td>\n",
       "    </tr>\n",
       "    <tr>\n",
       "      <th>877</th>\n",
       "      <td>3.0</td>\n",
       "    </tr>\n",
       "    <tr>\n",
       "      <th>139</th>\n",
       "      <td>522.0</td>\n",
       "    </tr>\n",
       "    <tr>\n",
       "      <th>419</th>\n",
       "      <td>53.0</td>\n",
       "    </tr>\n",
       "    <tr>\n",
       "      <th>1437</th>\n",
       "      <td>129.0</td>\n",
       "    </tr>\n",
       "    <tr>\n",
       "      <th>307</th>\n",
       "      <td>12.0</td>\n",
       "    </tr>\n",
       "    <tr>\n",
       "      <th>378</th>\n",
       "      <td>1.0</td>\n",
       "    </tr>\n",
       "    <tr>\n",
       "      <th>792</th>\n",
       "      <td>0.0</td>\n",
       "    </tr>\n",
       "    <tr>\n",
       "      <th>1223</th>\n",
       "      <td>22.0</td>\n",
       "    </tr>\n",
       "    <tr>\n",
       "      <th>1303</th>\n",
       "      <td>4.0</td>\n",
       "    </tr>\n",
       "    <tr>\n",
       "      <th>1323</th>\n",
       "      <td>75.0</td>\n",
       "    </tr>\n",
       "    <tr>\n",
       "      <th>1754</th>\n",
       "      <td>1593.0</td>\n",
       "    </tr>\n",
       "    <tr>\n",
       "      <th>351</th>\n",
       "      <td>457.0</td>\n",
       "    </tr>\n",
       "    <tr>\n",
       "      <th>834</th>\n",
       "      <td>13.0</td>\n",
       "    </tr>\n",
       "    <tr>\n",
       "      <th>1598</th>\n",
       "      <td>43.0</td>\n",
       "    </tr>\n",
       "    <tr>\n",
       "      <th>873</th>\n",
       "      <td>9.0</td>\n",
       "    </tr>\n",
       "    <tr>\n",
       "      <th>32</th>\n",
       "      <td>461.0</td>\n",
       "    </tr>\n",
       "    <tr>\n",
       "      <th>1518</th>\n",
       "      <td>84.0</td>\n",
       "    </tr>\n",
       "    <tr>\n",
       "      <th>502</th>\n",
       "      <td>306.0</td>\n",
       "    </tr>\n",
       "    <tr>\n",
       "      <th>801</th>\n",
       "      <td>0.0</td>\n",
       "    </tr>\n",
       "    <tr>\n",
       "      <th>1297</th>\n",
       "      <td>73.0</td>\n",
       "    </tr>\n",
       "    <tr>\n",
       "      <th>1381</th>\n",
       "      <td>7.0</td>\n",
       "    </tr>\n",
       "    <tr>\n",
       "      <th>1763</th>\n",
       "      <td>37.0</td>\n",
       "    </tr>\n",
       "    <tr>\n",
       "      <th>...</th>\n",
       "      <td>...</td>\n",
       "    </tr>\n",
       "    <tr>\n",
       "      <th>959</th>\n",
       "      <td>94.0</td>\n",
       "    </tr>\n",
       "    <tr>\n",
       "      <th>507</th>\n",
       "      <td>117.0</td>\n",
       "    </tr>\n",
       "    <tr>\n",
       "      <th>539</th>\n",
       "      <td>4.0</td>\n",
       "    </tr>\n",
       "    <tr>\n",
       "      <th>1039</th>\n",
       "      <td>0.0</td>\n",
       "    </tr>\n",
       "    <tr>\n",
       "      <th>426</th>\n",
       "      <td>9.0</td>\n",
       "    </tr>\n",
       "    <tr>\n",
       "      <th>1644</th>\n",
       "      <td>38.0</td>\n",
       "    </tr>\n",
       "    <tr>\n",
       "      <th>647</th>\n",
       "      <td>594.0</td>\n",
       "    </tr>\n",
       "    <tr>\n",
       "      <th>1651</th>\n",
       "      <td>5.0</td>\n",
       "    </tr>\n",
       "    <tr>\n",
       "      <th>545</th>\n",
       "      <td>2.0</td>\n",
       "    </tr>\n",
       "    <tr>\n",
       "      <th>1574</th>\n",
       "      <td>15.0</td>\n",
       "    </tr>\n",
       "    <tr>\n",
       "      <th>1589</th>\n",
       "      <td>1972.0</td>\n",
       "    </tr>\n",
       "    <tr>\n",
       "      <th>1453</th>\n",
       "      <td>66.0</td>\n",
       "    </tr>\n",
       "    <tr>\n",
       "      <th>29</th>\n",
       "      <td>3.0</td>\n",
       "    </tr>\n",
       "    <tr>\n",
       "      <th>920</th>\n",
       "      <td>6.0</td>\n",
       "    </tr>\n",
       "    <tr>\n",
       "      <th>1245</th>\n",
       "      <td>152.0</td>\n",
       "    </tr>\n",
       "    <tr>\n",
       "      <th>1062</th>\n",
       "      <td>2.0</td>\n",
       "    </tr>\n",
       "    <tr>\n",
       "      <th>1344</th>\n",
       "      <td>2.0</td>\n",
       "    </tr>\n",
       "    <tr>\n",
       "      <th>688</th>\n",
       "      <td>1.0</td>\n",
       "    </tr>\n",
       "    <tr>\n",
       "      <th>1019</th>\n",
       "      <td>44.0</td>\n",
       "    </tr>\n",
       "    <tr>\n",
       "      <th>1457</th>\n",
       "      <td>1.0</td>\n",
       "    </tr>\n",
       "    <tr>\n",
       "      <th>170</th>\n",
       "      <td>248.0</td>\n",
       "    </tr>\n",
       "    <tr>\n",
       "      <th>305</th>\n",
       "      <td>193.0</td>\n",
       "    </tr>\n",
       "    <tr>\n",
       "      <th>723</th>\n",
       "      <td>0.0</td>\n",
       "    </tr>\n",
       "    <tr>\n",
       "      <th>164</th>\n",
       "      <td>1292.0</td>\n",
       "    </tr>\n",
       "    <tr>\n",
       "      <th>198</th>\n",
       "      <td>3.0</td>\n",
       "    </tr>\n",
       "    <tr>\n",
       "      <th>1603</th>\n",
       "      <td>98.0</td>\n",
       "    </tr>\n",
       "    <tr>\n",
       "      <th>938</th>\n",
       "      <td>2.0</td>\n",
       "    </tr>\n",
       "    <tr>\n",
       "      <th>703</th>\n",
       "      <td>10.0</td>\n",
       "    </tr>\n",
       "    <tr>\n",
       "      <th>597</th>\n",
       "      <td>232.0</td>\n",
       "    </tr>\n",
       "    <tr>\n",
       "      <th>1434</th>\n",
       "      <td>1.0</td>\n",
       "    </tr>\n",
       "  </tbody>\n",
       "</table>\n",
       "<p>586 rows × 1 columns</p>\n",
       "</div>"
      ],
      "text/plain": [
       "      Auto_Theft_Recovered\n",
       "1222                   0.0\n",
       "625                    1.0\n",
       "1729                 597.0\n",
       "1773                2301.0\n",
       "986                   26.0\n",
       "282                   71.0\n",
       "1030                   2.0\n",
       "1677                   7.0\n",
       "877                    3.0\n",
       "139                  522.0\n",
       "419                   53.0\n",
       "1437                 129.0\n",
       "307                   12.0\n",
       "378                    1.0\n",
       "792                    0.0\n",
       "1223                  22.0\n",
       "1303                   4.0\n",
       "1323                  75.0\n",
       "1754                1593.0\n",
       "351                  457.0\n",
       "834                   13.0\n",
       "1598                  43.0\n",
       "873                    9.0\n",
       "32                   461.0\n",
       "1518                  84.0\n",
       "502                  306.0\n",
       "801                    0.0\n",
       "1297                  73.0\n",
       "1381                   7.0\n",
       "1763                  37.0\n",
       "...                    ...\n",
       "959                   94.0\n",
       "507                  117.0\n",
       "539                    4.0\n",
       "1039                   0.0\n",
       "426                    9.0\n",
       "1644                  38.0\n",
       "647                  594.0\n",
       "1651                   5.0\n",
       "545                    2.0\n",
       "1574                  15.0\n",
       "1589                1972.0\n",
       "1453                  66.0\n",
       "29                     3.0\n",
       "920                    6.0\n",
       "1245                 152.0\n",
       "1062                   2.0\n",
       "1344                   2.0\n",
       "688                    1.0\n",
       "1019                  44.0\n",
       "1457                   1.0\n",
       "170                  248.0\n",
       "305                  193.0\n",
       "723                    0.0\n",
       "164                 1292.0\n",
       "198                    3.0\n",
       "1603                  98.0\n",
       "938                    2.0\n",
       "703                   10.0\n",
       "597                  232.0\n",
       "1434                   1.0\n",
       "\n",
       "[586 rows x 1 columns]"
      ]
     },
     "execution_count": 78,
     "metadata": {},
     "output_type": "execute_result"
    }
   ],
   "source": [
    "result=pd.DataFrame(y_test)\n",
    "result"
   ]
  },
  {
   "cell_type": "code",
   "execution_count": 79,
   "metadata": {},
   "outputs": [],
   "source": [
    "import pickle\n",
    "filename=\"AutoRecovery.pkl\"\n",
    "pickle.dump(rg,open(filename,\"wb\"))"
   ]
  },
  {
   "cell_type": "code",
   "execution_count": null,
   "metadata": {},
   "outputs": [],
   "source": []
  },
  {
   "cell_type": "code",
   "execution_count": null,
   "metadata": {},
   "outputs": [],
   "source": []
  }
 ],
 "metadata": {
  "kernelspec": {
   "display_name": "Python 3",
   "language": "python",
   "name": "python3"
  },
  "language_info": {
   "codemirror_mode": {
    "name": "ipython",
    "version": 3
   },
   "file_extension": ".py",
   "mimetype": "text/x-python",
   "name": "python",
   "nbconvert_exporter": "python",
   "pygments_lexer": "ipython3",
   "version": "3.7.1"
  }
 },
 "nbformat": 4,
 "nbformat_minor": 2
}
